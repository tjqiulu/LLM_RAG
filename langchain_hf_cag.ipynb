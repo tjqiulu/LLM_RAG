{
 "cells": [
  {
   "cell_type": "markdown",
   "metadata": {},
   "source": [
    "# Huggingface\n",
    "Hugging provide two ways to invoke LLM\n",
    "1. By Api token \n",
    "2. local model\n"
   ]
  },
  {
   "cell_type": "markdown",
   "metadata": {},
   "source": [
    "## install Libs"
   ]
  },
  {
   "cell_type": "code",
   "execution_count": 23,
   "metadata": {},
   "outputs": [
    {
     "name": "stdout",
     "output_type": "stream",
     "text": [
      "Looking in indexes: https://pypi.tuna.tsinghua.edu.cn/simple\n",
      "Requirement already satisfied: langchain in d:\\conda_envs\\lili\\lib\\site-packages (0.3.12)\n",
      "Requirement already satisfied: huggingface_hub in d:\\conda_envs\\lili\\lib\\site-packages (0.26.5)\n",
      "Requirement already satisfied: transformers in d:\\conda_envs\\lili\\lib\\site-packages (4.47.0)\n",
      "Requirement already satisfied: sentence_transformers in d:\\conda_envs\\lili\\lib\\site-packages (3.3.1)\n",
      "Requirement already satisfied: accelerate in d:\\conda_envs\\lili\\lib\\site-packages (1.2.1)\n",
      "Requirement already satisfied: bitsandbytes in d:\\conda_envs\\lili\\lib\\site-packages (0.41.1)\n",
      "Requirement already satisfied: PyYAML>=5.3 in c:\\users\\kekexili\\appdata\\roaming\\python\\python311\\site-packages (from langchain) (6.0.1)\n",
      "Requirement already satisfied: SQLAlchemy<3,>=1.4 in d:\\conda_envs\\lili\\lib\\site-packages (from langchain) (2.0.29)\n",
      "Requirement already satisfied: aiohttp<4.0.0,>=3.8.3 in d:\\conda_envs\\lili\\lib\\site-packages (from langchain) (3.9.4)\n",
      "Requirement already satisfied: langchain-core<0.4.0,>=0.3.25 in d:\\conda_envs\\lili\\lib\\site-packages (from langchain) (0.3.25)\n",
      "Requirement already satisfied: langchain-text-splitters<0.4.0,>=0.3.3 in d:\\conda_envs\\lili\\lib\\site-packages (from langchain) (0.3.3)\n",
      "Requirement already satisfied: langsmith<0.3,>=0.1.17 in d:\\conda_envs\\lili\\lib\\site-packages (from langchain) (0.2.3)\n",
      "Requirement already satisfied: numpy<2,>=1.22.4 in c:\\users\\kekexili\\appdata\\roaming\\python\\python311\\site-packages (from langchain) (1.26.4)\n",
      "Requirement already satisfied: pydantic<3.0.0,>=2.7.4 in d:\\conda_envs\\lili\\lib\\site-packages (from langchain) (2.10.3)\n",
      "Requirement already satisfied: requests<3,>=2 in d:\\conda_envs\\lili\\lib\\site-packages (from langchain) (2.31.0)\n",
      "Requirement already satisfied: tenacity!=8.4.0,<10,>=8.1.0 in c:\\users\\kekexili\\appdata\\roaming\\python\\python311\\site-packages (from langchain) (8.2.3)\n",
      "Requirement already satisfied: filelock in c:\\users\\kekexili\\appdata\\roaming\\python\\python311\\site-packages (from huggingface_hub) (3.13.1)\n",
      "Requirement already satisfied: fsspec>=2023.5.0 in c:\\users\\kekexili\\appdata\\roaming\\python\\python311\\site-packages (from huggingface_hub) (2024.2.0)\n",
      "Requirement already satisfied: packaging>=20.9 in c:\\users\\kekexili\\appdata\\roaming\\python\\python311\\site-packages (from huggingface_hub) (23.2)\n",
      "Requirement already satisfied: tqdm>=4.42.1 in d:\\conda_envs\\lili\\lib\\site-packages (from huggingface_hub) (4.66.2)\n",
      "Requirement already satisfied: typing-extensions>=3.7.4.3 in d:\\conda_envs\\lili\\lib\\site-packages (from huggingface_hub) (4.12.2)\n",
      "Requirement already satisfied: regex!=2019.12.17 in c:\\users\\kekexili\\appdata\\roaming\\python\\python311\\site-packages (from transformers) (2023.12.25)\n",
      "Requirement already satisfied: tokenizers<0.22,>=0.21 in d:\\conda_envs\\lili\\lib\\site-packages (from transformers) (0.21.0)\n",
      "Requirement already satisfied: safetensors>=0.4.1 in d:\\conda_envs\\lili\\lib\\site-packages (from transformers) (0.4.5)\n",
      "Requirement already satisfied: torch>=1.11.0 in c:\\users\\kekexili\\appdata\\roaming\\python\\python311\\site-packages (from sentence_transformers) (2.1.2+cu121)\n",
      "Requirement already satisfied: scikit-learn in d:\\conda_envs\\lili\\lib\\site-packages (from sentence_transformers) (1.6.0)\n",
      "Requirement already satisfied: scipy in d:\\conda_envs\\lili\\lib\\site-packages (from sentence_transformers) (1.11.4)\n",
      "Requirement already satisfied: Pillow in d:\\conda_envs\\lili\\lib\\site-packages (from sentence_transformers) (10.2.0)\n",
      "Requirement already satisfied: psutil in d:\\conda_envs\\lili\\lib\\site-packages (from accelerate) (5.9.6)\n",
      "Requirement already satisfied: aiosignal>=1.1.2 in c:\\users\\kekexili\\appdata\\roaming\\python\\python311\\site-packages (from aiohttp<4.0.0,>=3.8.3->langchain) (1.3.1)\n",
      "Requirement already satisfied: attrs>=17.3.0 in d:\\conda_envs\\lili\\lib\\site-packages (from aiohttp<4.0.0,>=3.8.3->langchain) (23.2.0)\n",
      "Requirement already satisfied: frozenlist>=1.1.1 in d:\\conda_envs\\lili\\lib\\site-packages (from aiohttp<4.0.0,>=3.8.3->langchain) (1.4.1)\n",
      "Requirement already satisfied: multidict<7.0,>=4.5 in d:\\conda_envs\\lili\\lib\\site-packages (from aiohttp<4.0.0,>=3.8.3->langchain) (6.0.5)\n",
      "Requirement already satisfied: yarl<2.0,>=1.0 in d:\\conda_envs\\lili\\lib\\site-packages (from aiohttp<4.0.0,>=3.8.3->langchain) (1.9.4)\n",
      "Requirement already satisfied: jsonpatch<2.0,>=1.33 in c:\\users\\kekexili\\appdata\\roaming\\python\\python311\\site-packages (from langchain-core<0.4.0,>=0.3.25->langchain) (1.33)\n",
      "Requirement already satisfied: httpx<1,>=0.23.0 in c:\\users\\kekexili\\appdata\\roaming\\python\\python311\\site-packages (from langsmith<0.3,>=0.1.17->langchain) (0.27.0)\n",
      "Requirement already satisfied: orjson<4.0.0,>=3.9.14 in d:\\conda_envs\\lili\\lib\\site-packages (from langsmith<0.3,>=0.1.17->langchain) (3.10.0)\n",
      "Requirement already satisfied: requests-toolbelt<2.0.0,>=1.0.0 in d:\\conda_envs\\lili\\lib\\site-packages (from langsmith<0.3,>=0.1.17->langchain) (1.0.0)\n",
      "Requirement already satisfied: annotated-types>=0.6.0 in c:\\users\\kekexili\\appdata\\roaming\\python\\python311\\site-packages (from pydantic<3.0.0,>=2.7.4->langchain) (0.6.0)\n",
      "Requirement already satisfied: pydantic-core==2.27.1 in d:\\conda_envs\\lili\\lib\\site-packages (from pydantic<3.0.0,>=2.7.4->langchain) (2.27.1)\n",
      "Requirement already satisfied: charset-normalizer<4,>=2 in c:\\users\\kekexili\\appdata\\roaming\\python\\python311\\site-packages (from requests<3,>=2->langchain) (3.3.2)\n",
      "Requirement already satisfied: idna<4,>=2.5 in d:\\conda_envs\\lili\\lib\\site-packages (from requests<3,>=2->langchain) (3.7)\n",
      "Requirement already satisfied: urllib3<3,>=1.21.1 in d:\\conda_envs\\lili\\lib\\site-packages (from requests<3,>=2->langchain) (2.2.1)\n",
      "Requirement already satisfied: certifi>=2017.4.17 in d:\\conda_envs\\lili\\lib\\site-packages (from requests<3,>=2->langchain) (2024.2.2)\n",
      "Requirement already satisfied: greenlet!=0.4.17 in d:\\conda_envs\\lili\\lib\\site-packages (from SQLAlchemy<3,>=1.4->langchain) (3.0.3)\n",
      "Requirement already satisfied: sympy in c:\\users\\kekexili\\appdata\\roaming\\python\\python311\\site-packages (from torch>=1.11.0->sentence_transformers) (1.12)\n",
      "Requirement already satisfied: networkx in c:\\users\\kekexili\\appdata\\roaming\\python\\python311\\site-packages (from torch>=1.11.0->sentence_transformers) (3.2.1)\n",
      "Requirement already satisfied: jinja2 in d:\\conda_envs\\lili\\lib\\site-packages (from torch>=1.11.0->sentence_transformers) (3.1.3)\n",
      "Requirement already satisfied: colorama in d:\\conda_envs\\lili\\lib\\site-packages (from tqdm>=4.42.1->huggingface_hub) (0.4.6)\n",
      "Requirement already satisfied: joblib>=1.2.0 in c:\\users\\kekexili\\appdata\\roaming\\python\\python311\\site-packages (from scikit-learn->sentence_transformers) (1.3.2)\n",
      "Requirement already satisfied: threadpoolctl>=3.1.0 in d:\\conda_envs\\lili\\lib\\site-packages (from scikit-learn->sentence_transformers) (3.5.0)\n",
      "Requirement already satisfied: anyio in d:\\conda_envs\\lili\\lib\\site-packages (from httpx<1,>=0.23.0->langsmith<0.3,>=0.1.17->langchain) (4.3.0)\n",
      "Requirement already satisfied: httpcore==1.* in c:\\users\\kekexili\\appdata\\roaming\\python\\python311\\site-packages (from httpx<1,>=0.23.0->langsmith<0.3,>=0.1.17->langchain) (1.0.5)\n",
      "Requirement already satisfied: sniffio in d:\\conda_envs\\lili\\lib\\site-packages (from httpx<1,>=0.23.0->langsmith<0.3,>=0.1.17->langchain) (1.3.1)\n",
      "Requirement already satisfied: h11<0.15,>=0.13 in c:\\users\\kekexili\\appdata\\roaming\\python\\python311\\site-packages (from httpcore==1.*->httpx<1,>=0.23.0->langsmith<0.3,>=0.1.17->langchain) (0.14.0)\n",
      "Requirement already satisfied: jsonpointer>=1.9 in d:\\conda_envs\\lili\\lib\\site-packages (from jsonpatch<2.0,>=1.33->langchain-core<0.4.0,>=0.3.25->langchain) (2.4)\n",
      "Requirement already satisfied: MarkupSafe>=2.0 in d:\\conda_envs\\lili\\lib\\site-packages (from jinja2->torch>=1.11.0->sentence_transformers) (2.1.5)\n",
      "Requirement already satisfied: mpmath>=0.19 in c:\\users\\kekexili\\appdata\\roaming\\python\\python311\\site-packages (from sympy->torch>=1.11.0->sentence_transformers) (1.3.0)\n"
     ]
    }
   ],
   "source": [
    "!pip install langchain huggingface_hub transformers sentence_transformers accelerate bitsandbytes"
   ]
  },
  {
   "cell_type": "code",
   "execution_count": 24,
   "metadata": {},
   "outputs": [],
   "source": [
    "from getpass import getpass\n",
    "HUGGINGFACEHUB_API_TOKEN = getpass()"
   ]
  },
  {
   "cell_type": "code",
   "execution_count": 25,
   "metadata": {},
   "outputs": [],
   "source": [
    "import os\n",
    "os.environ[\"HUGGINGFACEHUB_API_TOKEN\"] = HUGGINGFACEHUB_API_TOKEN"
   ]
  },
  {
   "cell_type": "code",
   "execution_count": 26,
   "metadata": {},
   "outputs": [],
   "source": [
    "from langchain_community.llms import HuggingFaceHub\n",
    "from langchain.chains import LLMChain\n",
    "from langchain.prompts import PromptTemplate"
   ]
  },
  {
   "cell_type": "code",
   "execution_count": 27,
   "metadata": {},
   "outputs": [],
   "source": [
    "### create pormpt template\n",
    "question = \"Where is the capital of China?\"\n",
    "template = \"\"\"Question: {question}\n",
    "Answer: Let's think step by step.\"\"\"\n",
    "prompt = PromptTemplate(template=template, input_variables=[\"question\"])"
   ]
  },
  {
   "cell_type": "code",
   "execution_count": 28,
   "metadata": {},
   "outputs": [],
   "source": [
    "repo_id =\"google/flan-t5-base\""
   ]
  },
  {
   "cell_type": "code",
   "execution_count": 29,
   "metadata": {},
   "outputs": [
    {
     "name": "stdout",
     "output_type": "stream",
     "text": [
      "China is located in the north of the world. The capital of China is Beijing. The answer: Beijing.\n"
     ]
    }
   ],
   "source": [
    "llm = HuggingFaceHub(repo_id=repo_id)\n",
    "llm_chain = LLMChain(prompt=prompt, llm=llm,llm_kwargs={\"temperature\":0,\"max_length\":512})\n",
    "print(llm_chain.run(question))\n"
   ]
  },
  {
   "cell_type": "markdown",
   "metadata": {},
   "source": [
    "## Create RAG pipeline"
   ]
  },
  {
   "cell_type": "code",
   "execution_count": 30,
   "metadata": {},
   "outputs": [
    {
     "name": "stdout",
     "output_type": "stream",
     "text": [
      "Looking in indexes: https://pypi.tuna.tsinghua.edu.cn/simple\n",
      "Requirement already satisfied: pypdf in d:\\conda_envs\\lili\\lib\\site-packages (5.1.0)\n",
      "Requirement already satisfied: faiss-cpu in c:\\users\\kekexili\\appdata\\roaming\\python\\python311\\site-packages (1.7.4)\n"
     ]
    }
   ],
   "source": [
    "! pip install pypdf faiss-cpu"
   ]
  },
  {
   "cell_type": "code",
   "execution_count": 31,
   "metadata": {},
   "outputs": [],
   "source": [
    "from langchain.document_loaders import PyPDFLoader\n",
    "loader = PyPDFLoader(\"data/Eng_11_Qiulu.pdf\")\n",
    "pages = loader.load()\n",
    "\n",
    "from langchain.text_splitter import RecursiveCharacterTextSplitter\n",
    "\n",
    "text_splitter = RecursiveCharacterTextSplitter(\n",
    "    chunk_size=300,\n",
    "    chunk_overlap=50,\n",
    ")\n",
    "docs = text_splitter.split_documents(pages[:4])"
   ]
  },
  {
   "cell_type": "code",
   "execution_count": 32,
   "metadata": {},
   "outputs": [],
   "source": [
    "# pip install --upgrade langchain_community\n",
    "#! pip uninstall InstructorEmbedding"
   ]
  },
  {
   "cell_type": "code",
   "execution_count": 33,
   "metadata": {},
   "outputs": [],
   "source": [
    "from langchain_community.embeddings import HuggingFaceInferenceAPIEmbeddings\n",
    "from langchain_community.vectorstores import FAISS\n",
    "\n"
   ]
  },
  {
   "cell_type": "code",
   "execution_count": 34,
   "metadata": {},
   "outputs": [],
   "source": [
    "# 不需要传递 api_key，HuggingFaceInstructEmbeddings 会自动从环境变量读取 API 密钥\n",
    "embedding = HuggingFaceInferenceAPIEmbeddings(api_key = HUGGINGFACEHUB_API_TOKEN,model_name=\"sentence-transformers/all-MiniLM-L6-v2\")\n",
    "\n",
    "# 假设 docs 已经准备好了文档列表\n",
    "db = FAISS.from_documents(docs, embedding)\n",
    "\n",
    "# 执行相似度搜索\n",
    "query = \"What's the person name?\"\n",
    "result_slmii = db.similarity_search(query, k=3)"
   ]
  },
  {
   "cell_type": "code",
   "execution_count": 35,
   "metadata": {},
   "outputs": [],
   "source": [
    "source_knowledge = \"\\n\".join([x.page_content for x in result_slmii])"
   ]
  },
  {
   "cell_type": "code",
   "execution_count": 36,
   "metadata": {},
   "outputs": [],
   "source": [
    "augmented_prompt = \"\"\"Using the contexts below, answer the query.\n",
    "contexts:\n",
    "{source_knowledge}\n",
    "query:\n",
    "{query}\n",
    "\"\"\""
   ]
  },
  {
   "cell_type": "code",
   "execution_count": 37,
   "metadata": {},
   "outputs": [],
   "source": [
    "prompt = PromptTemplate(template=augmented_prompt,input_variables=[\"source_knowledge\",\"query\"])\n",
    "\n",
    "llm_chain = LLMChain(prompt=prompt, llm=llm,llm_kwargs={\"temperature\":0,\"max_length\":1024})\n"
   ]
  },
  {
   "cell_type": "code",
   "execution_count": 38,
   "metadata": {},
   "outputs": [
    {
     "name": "stdout",
     "output_type": "stream",
     "text": [
      "Qiu lu\n"
     ]
    }
   ],
   "source": [
    "print(llm_chain.run({\"source_knowledge\": source_knowledge,\"query\":query}))"
   ]
  },
  {
   "cell_type": "code",
   "execution_count": 39,
   "metadata": {},
   "outputs": [],
   "source": [
    "argumented_prompt_2=f\"\"\"Using the contexts below, anser the query.\n",
    "contexts:\n",
    "{source_knowledge}\n",
    "query:\n",
    "{query}\n",
    "\"\"\""
   ]
  },
  {
   "cell_type": "code",
   "execution_count": 40,
   "metadata": {},
   "outputs": [
    {
     "name": "stdout",
     "output_type": "stream",
     "text": [
      "Using the contexts below, anser the query.\n",
      "contexts:\n",
      "automated testing. \n",
      " \n",
      "April 2019 – DEC 2023: Thales Facial Recognition Platform (FRP) \n",
      "Role: Technical Lead for Product Security Solutions \n",
      "Project Description: Leading a cross-disciplinary team to develop a multifunctional\n",
      "platform using Thales' advanced facial recognition algorithms. Applications include \n",
      "airport automatic boarding, customs face recognition verification, and building access \n",
      "control systems. \n",
      "Responsibilities and Achievements:\n",
      "Personal Information \n",
      "Name: Qiu lu \n",
      "Gender: Male \n",
      "Contact Number: 13552136227 \n",
      "Location: Beijing \n",
      "Email: tjqiulu@hotmail.com \n",
      " \n",
      " \n",
      "Professional Skills \n",
      "Information Security: \n",
      "In-depth knowledge and practical experience in the field of information security.\n",
      "query:\n",
      "What's the person name?\n",
      "\n"
     ]
    }
   ],
   "source": [
    "print(argumented_prompt_2)"
   ]
  }
 ],
 "metadata": {
  "kernelspec": {
   "display_name": "lili",
   "language": "python",
   "name": "python3"
  },
  "language_info": {
   "codemirror_mode": {
    "name": "ipython",
    "version": 3
   },
   "file_extension": ".py",
   "mimetype": "text/x-python",
   "name": "python",
   "nbconvert_exporter": "python",
   "pygments_lexer": "ipython3",
   "version": "3.11.8"
  }
 },
 "nbformat": 4,
 "nbformat_minor": 2
}
